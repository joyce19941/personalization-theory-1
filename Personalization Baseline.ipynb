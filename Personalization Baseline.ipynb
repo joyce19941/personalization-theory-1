{
 "cells": [
  {
   "cell_type": "code",
   "execution_count": 50,
   "metadata": {
    "collapsed": false
   },
   "outputs": [],
   "source": [
    "import pandas as pd\n",
    "from os import path\n",
    "import numpy as np\n",
    "\n",
    "data = pd.read_csv('/Users/hyy/Desktop/Columbia/E 4571/Project/yelp_training_set/rating data.csv',error_bad_lines=False, index_col=0)"
   ]
  },
  {
   "cell_type": "code",
   "execution_count": 51,
   "metadata": {
    "collapsed": true
   },
   "outputs": [],
   "source": [
    "import random\n",
    "test = []\n",
    "tune = []\n",
    "train = []\n",
    "random.seed(10)\n",
    "for j in data.columns:\n",
    "    for i in data.index:\n",
    "        r = random.random()\n",
    "        if not pd.isnull(data[j][i]):\n",
    "            if r <= 0.6:\n",
    "                train.append([j, i, data[j][i]])\n",
    "            elif r > 0.6 and r <= 0.8:\n",
    "                tune.append([j, i, data[j][i]])\n",
    "            else:\n",
    "                test.append([j, i, data[j][i]])"
   ]
  },
  {
   "cell_type": "code",
   "execution_count": 52,
   "metadata": {
    "collapsed": false
   },
   "outputs": [],
   "source": [
    "data_train=data.copy()\n",
    "for item in tune:\n",
    "    if item[0] in data_train.columns and item[1] in data_train.index:\n",
    "        data_train[item[0]][item[1]]=np.nan\n",
    "for item in test:\n",
    "    if item[0] in data_train.columns and item[1] in data_train.index:\n",
    "        data_train[item[0]][item[1]]=np.nan"
   ]
  },
  {
   "cell_type": "code",
   "execution_count": 53,
   "metadata": {
    "collapsed": false
   },
   "outputs": [],
   "source": [
    "x_bar_train=data_train.stack().mean()"
   ]
  },
  {
   "cell_type": "code",
   "execution_count": 54,
   "metadata": {
    "collapsed": false
   },
   "outputs": [],
   "source": [
    "bias_res_train = []\n",
    "for i in range(len(data_train.columns)):\n",
    "    bias_res_train.append(((data_train.sum(axis=0)[i]) / (data_train.count()[i])) - x_bar_train)"
   ]
  },
  {
   "cell_type": "code",
   "execution_count": 55,
   "metadata": {
    "collapsed": false
   },
   "outputs": [],
   "source": [
    "bias_user_train = []\n",
    "for i in range(len(data_train)):\n",
    "    bias_user_train.append(((data_train.sum(axis=1)[i]) / (data_train.count(axis=1)[i])) - x_bar_train)"
   ]
  },
  {
   "cell_type": "code",
   "execution_count": 56,
   "metadata": {
    "collapsed": false
   },
   "outputs": [],
   "source": [
    "baseline_train=data_train.copy()"
   ]
  },
  {
   "cell_type": "code",
   "execution_count": 57,
   "metadata": {
    "collapsed": true
   },
   "outputs": [],
   "source": [
    "for u in range(len(baseline_train)):\n",
    "    for i in range(len(baseline_train.columns)):\n",
    "        if pd.isnull(bias_user_train[u]):\n",
    "            baseline_train.ix[u][i] = x_bar_train\n",
    "        else:\n",
    "            baseline_train.ix[u][i] = x_bar_train + bias_user_train[u] + bias_res_train[i]"
   ]
  },
  {
   "cell_type": "code",
   "execution_count": 58,
   "metadata": {
    "collapsed": false
   },
   "outputs": [],
   "source": [
    "import math\n",
    "SUM = 0\n",
    "COUNT = 0\n",
    "for item in test:\n",
    "    if item[0] in baseline_train.columns and item[1] in baseline_train.index:\n",
    "        SUM += (baseline_train[item[0]][item[1]] - item[2])**2\n",
    "        COUNT += 1\n",
    "RMSE_135 = math.sqrt(SUM / COUNT)"
   ]
  },
  {
   "cell_type": "code",
   "execution_count": 59,
   "metadata": {
    "collapsed": false
   },
   "outputs": [
    {
     "data": {
      "text/plain": [
       "(1.1480713592499636,\n",
       " 1.1266798774789955,\n",
       " 1.1578538422767812,\n",
       " 1.1107293307323518,\n",
       " 1.1207347698796986)"
      ]
     },
     "execution_count": 59,
     "metadata": {},
     "output_type": "execute_result"
    }
   ],
   "source": [
    "RMSE_135,RMSE_125,RMSE_115,RMSE_105,RMSE_95"
   ]
  },
  {
   "cell_type": "code",
   "execution_count": null,
   "metadata": {
    "collapsed": true
   },
   "outputs": [],
   "source": []
  }
 ],
 "metadata": {
  "anaconda-cloud": {},
  "kernelspec": {
   "display_name": "Python [conda root]",
   "language": "python",
   "name": "conda-root-py"
  },
  "language_info": {
   "codemirror_mode": {
    "name": "ipython",
    "version": 3
   },
   "file_extension": ".py",
   "mimetype": "text/x-python",
   "name": "python",
   "nbconvert_exporter": "python",
   "pygments_lexer": "ipython3",
   "version": "3.5.2"
  }
 },
 "nbformat": 4,
 "nbformat_minor": 2
}
