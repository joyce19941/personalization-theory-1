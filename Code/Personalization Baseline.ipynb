{
 "cells": [
  {
   "cell_type": "code",
   "execution_count": 34,
   "metadata": {
    "collapsed": false
   },
   "outputs": [],
   "source": [
    "import pandas as pd\n",
    "from os import path\n",
    "import numpy as np\n",
    "\n",
    "#data = pd.read_csv('/Users/hyy/Desktop/Columbia/E 4571/Project/yelp_training_set/rating data.csv',error_bad_lines=False, index_col=0)\n",
    "#data = pd.read_csv('/Users/hyy/Desktop/Columbia/E 4571/Project/yelp_training_set/rating data 125.csv',error_bad_lines=False, index_col=0)\n",
    "#data = pd.read_csv('/Users/hyy/Desktop/Columbia/E 4571/Project/yelp_training_set/rating data 115.csv',error_bad_lines=False, index_col=0)\n",
    "#data = pd.read_csv('/Users/hyy/Desktop/Columbia/E 4571/Project/yelp_training_set/rating data 105.csv',error_bad_lines=False, index_col=0)\n",
    "data = pd.read_csv('/Users/hyy/Desktop/Columbia/E 4571/Project/yelp_training_set/rating data 95.csv',error_bad_lines=False, index_col=0)"
   ]
  },
  {
   "cell_type": "markdown",
   "metadata": {},
   "source": [
    "Split the data into train, tune, test set"
   ]
  },
  {
   "cell_type": "code",
   "execution_count": 35,
   "metadata": {
    "collapsed": true
   },
   "outputs": [],
   "source": [
    "import random\n",
    "test = []\n",
    "tune = []\n",
    "train = []\n",
    "random.seed(10)\n",
    "for j in data.columns:\n",
    "    for i in data.index:\n",
    "        r = random.random()\n",
    "        if not pd.isnull(data[j][i]):\n",
    "            if r <= 0.6:\n",
    "                train.append([j, i, data[j][i]])\n",
    "            elif r > 0.6 and r <= 0.8:\n",
    "                tune.append([j, i, data[j][i]])\n",
    "            else:\n",
    "                test.append([j, i, data[j][i]])\n",
    "data_train=data.copy()\n",
    "for item in tune:\n",
    "    if item[0] in data_train.columns and item[1] in data_train.index:\n",
    "        data_train[item[0]][item[1]]=np.nan\n",
    "for item in test:\n",
    "    if item[0] in data_train.columns and item[1] in data_train.index:\n",
    "        data_train[item[0]][item[1]]=np.nan"
   ]
  },
  {
   "cell_type": "markdown",
   "metadata": {},
   "source": [
    "Calculate the mean of all available ratings in train set"
   ]
  },
  {
   "cell_type": "code",
   "execution_count": 36,
   "metadata": {
    "collapsed": false
   },
   "outputs": [],
   "source": [
    "x_bar_train=data_train.stack().mean()"
   ]
  },
  {
   "cell_type": "markdown",
   "metadata": {},
   "source": [
    "Calculate the bias of restaurants in the train set"
   ]
  },
  {
   "cell_type": "code",
   "execution_count": 37,
   "metadata": {
    "collapsed": false
   },
   "outputs": [],
   "source": [
    "bias_res_train = []\n",
    "for i in range(len(data_train.columns)):\n",
    "    bias_res_train.append(((data_train.sum(axis=0)[i]) / (data_train.count()[i])) - x_bar_train)"
   ]
  },
  {
   "cell_type": "markdown",
   "metadata": {},
   "source": [
    "Calculate the bias of users in the train set"
   ]
  },
  {
   "cell_type": "code",
   "execution_count": 38,
   "metadata": {
    "collapsed": false
   },
   "outputs": [],
   "source": [
    "bias_user_train = []\n",
    "for i in range(len(data_train)):\n",
    "    bias_user_train.append(((data_train.sum(axis=1)[i]) / (data_train.count(axis=1)[i])) - x_bar_train)"
   ]
  },
  {
   "cell_type": "markdown",
   "metadata": {
    "collapsed": false
   },
   "source": [
    "Calculate baseline model, if user bias is NaN, set user bias as 0"
   ]
  },
  {
   "cell_type": "code",
   "execution_count": 39,
   "metadata": {
    "collapsed": true
   },
   "outputs": [],
   "source": [
    "baseline_train=data_train.copy()\n",
    "for u in range(len(baseline_train)):\n",
    "    for i in range(len(baseline_train.columns)):\n",
    "        if pd.isnull(bias_user_train[u]):\n",
    "            baseline_train.ix[u][i] = x_bar_train + bias_res_train[i]\n",
    "        else:\n",
    "            baseline_train.ix[u][i] = x_bar_train + bias_user_train[u] + bias_res_train[i]"
   ]
  },
  {
   "cell_type": "markdown",
   "metadata": {},
   "source": [
    "Calculate RMSE of the model"
   ]
  },
  {
   "cell_type": "code",
   "execution_count": 40,
   "metadata": {
    "collapsed": false
   },
   "outputs": [],
   "source": [
    "import math\n",
    "SUM = 0\n",
    "COUNT = 0\n",
    "for item in test:\n",
    "    if item[0] in baseline_train.columns and item[1] in baseline_train.index:\n",
    "        SUM += (baseline_train[item[0]][item[1]] - item[2])**2\n",
    "        COUNT += 1\n",
    "RMSE_95 = math.sqrt(SUM / COUNT)"
   ]
  },
  {
   "cell_type": "markdown",
   "metadata": {},
   "source": [
    "RMSE for different size dataset"
   ]
  },
  {
   "cell_type": "code",
   "execution_count": 41,
   "metadata": {
    "collapsed": false
   },
   "outputs": [
    {
     "data": {
      "text/plain": [
       "(1.1459017167255228,\n",
       " 1.1241635858915149,\n",
       " 1.1556691020768366,\n",
       " 1.108762490568112,\n",
       " 1.117263088161691)"
      ]
     },
     "execution_count": 41,
     "metadata": {},
     "output_type": "execute_result"
    }
   ],
   "source": [
    "RMSE_135,RMSE_125,RMSE_115,RMSE_105,RMSE_95"
   ]
  },
  {
   "cell_type": "markdown",
   "metadata": {},
   "source": [
    "Coverage comparison "
   ]
  },
  {
   "cell_type": "code",
   "execution_count": 42,
   "metadata": {
    "collapsed": false
   },
   "outputs": [
    {
     "data": {
      "image/png": "[encoded data removed]",
      "text/plain": [
       "<matplotlib.figure.Figure at 0x112739588>"
      ]
     },
     "metadata": {},
     "output_type": "display_data"
    }
   ],
   "source": [
    "coverage_RMSEs=[1.1459017167255228, 1.1241635858915149, 1.1556691020768366,1.108762490568112,1.117263088161691]\n",
    "coverage_RMSEs_item=[1.2069856768804772, 1.1858021424127776, 1.1919861843762687,1.1650238390666052,1.1686472176226619]\n",
    "coverage_RMSEs_svd=[0.8698609691586622,0.8658650182782625,0.8714428756522283,0.8823904744645856,0.8736623512609055]\n",
    "#test_RMSE135,test_RMSE125,test_RMSE115,test_RMSE105,test_RMSE95 dataset size\n",
    "coverage_size=[387300, 498491, 595620, 722455, 848598]\n",
    "from matplotlib import pyplot as plt\n",
    "baseline=plt.plot(coverage_size,coverage_RMSEs,label='Baseline')\n",
    "item=plt.plot(coverage_size,coverage_RMSEs_item,label='Item')\n",
    "svd=plt.plot(coverage_size,coverage_RMSEs_svd,label='SVD')\n",
    "plt.scatter(coverage_size,coverage_RMSEs)\n",
    "plt.scatter(coverage_size,coverage_RMSEs_item,color='green')\n",
    "plt.scatter(coverage_size,coverage_RMSEs_svd,color='red')\n",
    "plt.legend(['Baseline','Item-based','SVD'],loc=7,bbox_to_anchor=(1.38, .864))\n",
    "plt.xlabel('Dataset Size')\n",
    "plt.ylabel('RMSE')\n",
    "plt.show()\n",
    "#plt.close"
   ]
  },
  {
   "cell_type": "code",
   "execution_count": null,
   "metadata": {
    "collapsed": true
   },
   "outputs": [],
   "source": []
  }
 ],
 "metadata": {
  "anaconda-cloud": {},
  "kernelspec": {
   "display_name": "Python [conda root]",
   "language": "python",
   "name": "conda-root-py"
  },
  "language_info": {
   "codemirror_mode": {
    "name": "ipython",
    "version": 3
   },
   "file_extension": ".py",
   "mimetype": "text/x-python",
   "name": "python",
   "nbconvert_exporter": "python",
   "pygments_lexer": "ipython3",
   "version": "3.5.2"
  }
 },
 "nbformat": 4,
 "nbformat_minor": 2
}
