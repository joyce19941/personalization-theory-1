{
 "cells": [
  {
   "cell_type": "code",
   "execution_count": 262,
   "metadata": {},
   "outputs": [],
   "source": [
    "import pandas as pd\n",
    "import numpy as np\n",
    "import random\n",
    "import scipy.sparse as sp\n",
    "from scipy.sparse.linalg import svds\n",
    "import math\n",
    "from sklearn.cross_validation import KFold\n",
    "import time\n",
    "import matplotlib.pyplot as plt"
   ]
  },
  {
   "cell_type": "code",
   "execution_count": 327,
   "metadata": {
    "collapsed": true
   },
   "outputs": [],
   "source": [
    "rm = pd.DataFrame.from_csv(\"rating_matrix.csv\")\n",
    "um = pd.DataFrame.from_csv(\"user_avg.csv\")"
   ]
  },
  {
   "cell_type": "code",
   "execution_count": 328,
   "metadata": {},
   "outputs": [],
   "source": [
    "def count_not_null(df):\n",
    "    count = 0\n",
    "    for i in df.index:\n",
    "        for j in df.columns:\n",
    "            if not pd.isnull(df[j][i]):\n",
    "                count += 1\n",
    "    return count"
   ]
  },
  {
   "cell_type": "code",
   "execution_count": 233,
   "metadata": {
    "scrolled": true
   },
   "outputs": [
    {
     "name": "stdout",
     "output_type": "stream",
     "text": [
      "rating matrix size: 387300\n",
      "non-null rating: 17651\n",
      "4.56% valid rating\n"
     ]
    }
   ],
   "source": [
    "print(\"rating matrix size: \" +  str(rm.size))\n",
    "print(\"non-null rating: \" +  str(count_not_null(rm)))\n",
    "print(str(round(count_not_null(rm) * 100 /rm.size, 2)) + \"% valid rating\")"
   ]
  },
  {
   "cell_type": "markdown",
   "metadata": {},
   "source": [
    "# Model-Based - SVD"
   ]
  },
  {
   "cell_type": "markdown",
   "metadata": {},
   "source": [
    "## I.  5-fold cross-validation with Scipy SVD "
   ]
  },
  {
   "cell_type": "markdown",
   "metadata": {},
   "source": [
    "Modeling with rating matrix size of 3873 x 100"
   ]
  },
  {
   "cell_type": "code",
   "execution_count": 329,
   "metadata": {
    "collapsed": true
   },
   "outputs": [],
   "source": [
    "#split non-empty pairs data into 80% train and 20% test sets\n",
    "test=[]\n",
    "train=[]\n",
    "random.seed(10)\n",
    "for j in rm:\n",
    "    for i in rm.index:\n",
    "        r=random.random()\n",
    "        if not pd.isnull(rm[j][i]):\n",
    "            if r<=0.8:\n",
    "                train.append([j,i,rm[j][i]])\n",
    "            else:\n",
    "                test.append([j,i,rm[j][i]])"
   ]
  },
  {
   "cell_type": "markdown",
   "metadata": {},
   "source": [
    "First, we try to fill missing values with user's average rating provided by Yelp. If there is no average rating for a user, then calculate it from the rating matrix."
   ]
  },
  {
   "cell_type": "code",
   "execution_count": 330,
   "metadata": {
    "collapsed": true
   },
   "outputs": [],
   "source": [
    "def SVD_5_fold_cross_validation(train, test, rating_matrix, UM):\n",
    "    rm = rating_matrix.copy()\n",
    "    K_svd = [3,5,10,15,20,25,30]\n",
    "    kf = KFold(len(train), n_folds=5, shuffle=True)\n",
    "    partition = []\n",
    "    for iteration, data in enumerate(kf, start=1):\n",
    "        partition.append(data[1])\n",
    "        \n",
    "    for item in test:\n",
    "        rm[item[0]][item[1]] = None      # fill test set values with na\n",
    "            \n",
    "    K_svd_RMSE = []\n",
    "    for k in K_svd:\n",
    "        RMSE = []\n",
    "        for tune in partition: # Each fold as a test set\n",
    "            rm_sub = rm.copy()\n",
    "            for idx in tune:\n",
    "                rm_sub[train[idx][0]][train[idx][1]] = None\n",
    "            \n",
    "            A = rm_sub.copy()\n",
    "            \n",
    "            for i in A.columns:\n",
    "                for j in A.index:\n",
    "                    if pd.isnull(A[i][j]):\n",
    "                        if j in UM.index:\n",
    "                            A[i][j] = UM['user_mean'][j]           # fill na with user mean\n",
    "                        else:\n",
    "                            A[i][j] = rating_matrix.loc[j].mean()  # or calculate row mean if no public user profile\n",
    "            R = A.as_matrix()\n",
    "            U, sigma, Vt = svds(R, k = k)\n",
    "            sigma = np.diag(sigma)\n",
    "            all_user_predicted_ratings = np.dot(np.dot(U, sigma), Vt) \n",
    "            preds_df = pd.DataFrame(all_user_predicted_ratings, columns = A.columns, index = A.index)\n",
    "                                  \n",
    "            \n",
    "            SUM=0\n",
    "            COUNT=0\n",
    "            for i in tune:\n",
    "                x = train[i][1]\n",
    "                y = train[i][0]\n",
    "                value = train[i][2]\n",
    "                SUM +=(value - preds_df[y][x])**2\n",
    "                COUNT+=1\n",
    "            rmse = math.sqrt(SUM/COUNT)\n",
    "            RMSE.append(rmse)\n",
    "            \n",
    "        K_svd_RMSE.append([k,np.mean(RMSE)])\n",
    "\n",
    "    return  K_svd_RMSE"
   ]
  },
  {
   "cell_type": "code",
   "execution_count": 84,
   "metadata": {},
   "outputs": [],
   "source": [
    "result = SVD_5_fold_cross_validation(train, test, rm, um)"
   ]
  },
  {
   "cell_type": "code",
   "execution_count": 85,
   "metadata": {},
   "outputs": [
    {
     "data": {
      "text/plain": [
       "[[3, 0.98809685103283429],\n",
       " [5, 0.98828261491782377],\n",
       " [10, 0.98834071915448862],\n",
       " [15, 0.9891772993038821],\n",
       " [20, 0.98977558732861548],\n",
       " [25, 0.99109471849802377],\n",
       " [30, 0.99162267352962608]]"
      ]
     },
     "execution_count": 85,
     "metadata": {},
     "output_type": "execute_result"
    }
   ],
   "source": [
    "result"
   ]
  },
  {
   "cell_type": "markdown",
   "metadata": {},
   "source": [
    "Then, we try to fill missing value with rating matrix row mean for each user."
   ]
  },
  {
   "cell_type": "code",
   "execution_count": 331,
   "metadata": {
    "collapsed": true
   },
   "outputs": [],
   "source": [
    "def SVD_5_fold_cross_validation_2(train, test, rating_matrix, UM):\n",
    "    rm = rating_matrix.copy()\n",
    "    K_svd = [3,5,10,15,20,25,30]\n",
    "    kf = KFold(len(train), n_folds=5, shuffle=True)\n",
    "    partition = []\n",
    "    for iteration, data in enumerate(kf, start=1):\n",
    "        partition.append(data[1])\n",
    "        \n",
    "    for item in test:\n",
    "        rm[item[0]][item[1]] = None      # fill test set values with na\n",
    "            \n",
    "    K_svd_RMSE = []\n",
    "    for k in K_svd:\n",
    "        RMSE = []\n",
    "        for tune in partition: # Each fold as a test set\n",
    "            rm_sub = rm.copy()\n",
    "            for idx in tune:\n",
    "                rm_sub[train[idx][0]][train[idx][1]] = None\n",
    "            \n",
    "            A = rm_sub.copy()\n",
    "            \n",
    "            for i in A.columns:\n",
    "                for j in A.index:\n",
    "                    if pd.isnull(A[i][j]):\n",
    "                        A[i][j] = rating_matrix.loc[j].mean()  # or calculate row mean if no public user profile\n",
    "            R = A.as_matrix()\n",
    "            U, sigma, Vt = svds(R, k = k)\n",
    "            sigma = np.diag(sigma)\n",
    "            all_user_predicted_ratings = np.dot(np.dot(U, sigma), Vt) \n",
    "            preds_df = pd.DataFrame(all_user_predicted_ratings, columns = A.columns, index = A.index)\n",
    "                                  \n",
    "            \n",
    "            SUM=0\n",
    "            COUNT=0\n",
    "            for i in tune:\n",
    "                x = train[i][1]\n",
    "                y = train[i][0]\n",
    "                value = train[i][2]\n",
    "                SUM +=(value - preds_df[y][x])**2\n",
    "                COUNT+=1\n",
    "            rmse = math.sqrt(SUM/COUNT)\n",
    "            RMSE.append(rmse)\n",
    "            \n",
    "        K_svd_RMSE.append([k,np.mean(RMSE)])\n",
    "\n",
    "    return  K_svd_RMSE"
   ]
  },
  {
   "cell_type": "code",
   "execution_count": 88,
   "metadata": {
    "collapsed": true
   },
   "outputs": [],
   "source": [
    "result2 = SVD_5_fold_cross_validation_2(train, test, rm, um)"
   ]
  },
  {
   "cell_type": "markdown",
   "metadata": {},
   "source": [
    "The result shows that fill missnig value with row mean has a better performance, so we will stick with it."
   ]
  },
  {
   "cell_type": "code",
   "execution_count": 89,
   "metadata": {},
   "outputs": [
    {
     "data": {
      "text/plain": [
       "[[3, 0.86713915739833514],\n",
       " [5, 0.86585141327749005],\n",
       " [10, 0.86361151229424726],\n",
       " [15, 0.86457206268291298],\n",
       " [20, 0.86505335539881512],\n",
       " [25, 0.86583187401268202],\n",
       " [30, 0.86492348069522562]]"
      ]
     },
     "execution_count": 89,
     "metadata": {},
     "output_type": "execute_result"
    }
   ],
   "source": [
    "result2"
   ]
  },
  {
   "cell_type": "code",
   "execution_count": null,
   "metadata": {
    "collapsed": true
   },
   "outputs": [],
   "source": []
  },
  {
   "cell_type": "code",
   "execution_count": 102,
   "metadata": {},
   "outputs": [],
   "source": [
    "y = []\n",
    "x = [3,5,10,15,20,25,30]\n",
    "for i in result2:\n",
    "    y.append(i[1])"
   ]
  },
  {
   "cell_type": "code",
   "execution_count": 104,
   "metadata": {},
   "outputs": [
    {
     "data": {
      "image/png": "[encoded data removed]",
      "text/plain": [
       "<matplotlib.figure.Figure at 0x1137c8048>"
      ]
     },
     "metadata": {},
     "output_type": "display_data"
    }
   ],
   "source": [
    "import matplotlib.pyplot as plt\n",
    "plt.plot(x, y)\n",
    "plt.ylabel('RMSE')\n",
    "plt.xlabel('Number of Latent Feature')\n",
    "plt.show()"
   ]
  },
  {
   "cell_type": "markdown",
   "metadata": {},
   "source": [
    "### Test Set RMSE"
   ]
  },
  {
   "cell_type": "markdown",
   "metadata": {},
   "source": [
    "Use k = 10 for the test set."
   ]
  },
  {
   "cell_type": "code",
   "execution_count": 257,
   "metadata": {},
   "outputs": [
    {
     "name": "stdout",
     "output_type": "stream",
     "text": [
      "0.8698609691586622\n",
      "time elapsed: 153.60882997512817\n"
     ]
    }
   ],
   "source": [
    "start_time = time.time()\n",
    "for idx in test:\n",
    "    rm_sub[idx[0]][idx[1]] = None\n",
    "            \n",
    "A = rm_sub.copy()\n",
    "            \n",
    "for i in A.columns:\n",
    "    for j in A.index:\n",
    "        if pd.isnull(A[i][j]):\n",
    "            A[i][j] = rm.loc[j].mean()  \n",
    "R = A.as_matrix()\n",
    "U, sigma, Vt = svds(R, k = 10)\n",
    "sigma = np.diag(sigma)\n",
    "all_user_predicted_ratings = np.dot(np.dot(U, sigma), Vt) \n",
    "preds_df = pd.DataFrame(all_user_predicted_ratings, columns = A.columns, index = A.index)\n",
    "                                  \n",
    "SUM=0\n",
    "COUNT=0\n",
    "for i in test:\n",
    "    x = i[1]\n",
    "    y = i[0]\n",
    "    value = i[2]\n",
    "    SUM +=(value - preds_df[y][x])**2\n",
    "    COUNT+=1\n",
    "rmse = math.sqrt(SUM/COUNT)\n",
    "print(rmse)\n",
    "end_time = time.time()\n",
    "print(\"time elapsed: \" + str(end_time - start_time))"
   ]
  },
  {
   "cell_type": "markdown",
   "metadata": {},
   "source": [
    "### SVD - Coverage Test"
   ]
  },
  {
   "cell_type": "code",
   "execution_count": 208,
   "metadata": {
    "collapsed": true
   },
   "outputs": [],
   "source": [
    "def SVD_data_set_size(train, test, rating_matrix, UM):\n",
    "    A = rating_matrix.copy()\n",
    "    \n",
    "    kf = KFold(len(train), n_folds=5, shuffle=True)\n",
    "    partition = []\n",
    "\n",
    "    for item in test:\n",
    "        A[item[0]][item[1]] = None\n",
    "       \n",
    "    for i in A.columns:\n",
    "        for j in A.index:\n",
    "            if pd.isnull(A[i][j]):\n",
    "\n",
    "                A[i][j] = rating_matrix.loc[j].mean()\n",
    "    \n",
    "    R = A.as_matrix()\n",
    "    U, sigma, Vt = svds(R, k = 10)\n",
    "    sigma = np.diag(sigma)\n",
    "    all_user_predicted_ratings = np.dot(np.dot(U, sigma), Vt) \n",
    "    preds_df = pd.DataFrame(all_user_predicted_ratings, columns = A.columns, index = A.index)\n",
    "                                  \n",
    "    SUM=0\n",
    "    COUNT=0\n",
    "    for i in test:\n",
    "        SUM +=(i[2] - preds_df[i[0]][i[1]])**2\n",
    "        COUNT+=1\n",
    "    RMSE = math.sqrt(SUM/COUNT)\n",
    "    print(RMSE)\n",
    "\n",
    "    return  RMSE"
   ]
  },
  {
   "cell_type": "code",
   "execution_count": 210,
   "metadata": {
    "collapsed": true
   },
   "outputs": [],
   "source": [
    "def data_set_partition(original_data):\n",
    "    test=[]\n",
    "    train=[]\n",
    "    for j in original_data.columns:\n",
    "        for i in original_data.index:\n",
    "            r=random.random()\n",
    "            if not pd.isnull(original_data[j][i]):\n",
    "                if r<=0.8:\n",
    "                    train.append([j,i,original_data[j][i]])\n",
    "                else:\n",
    "                    test.append([j,i,original_data[j][i]])\n",
    "                    \n",
    "    return [train, test]"
   ]
  },
  {
   "cell_type": "code",
   "execution_count": 310,
   "metadata": {
    "collapsed": true
   },
   "outputs": [],
   "source": [
    "rm95 = pd.DataFrame.from_csv(\"rm95.csv\")\n",
    "um95 = pd.DataFrame.from_csv(\"um95.csv\")\n",
    "rm105 = pd.DataFrame.from_csv(\"rm105.csv\")\n",
    "um105 = pd.DataFrame.from_csv(\"um105.csv\")\n",
    "rm115 = pd.DataFrame.from_csv(\"rm115.csv\")\n",
    "um115 = pd.DataFrame.from_csv(\"um115.csv\")\n",
    "rm125 = pd.DataFrame.from_csv(\"rm125.csv\")\n",
    "um125 = pd.DataFrame.from_csv(\"um125.csv\")"
   ]
  },
  {
   "cell_type": "code",
   "execution_count": 235,
   "metadata": {},
   "outputs": [
    {
     "name": "stdout",
     "output_type": "stream",
     "text": [
      "rating matrix size: 848598\n",
      "non-null rating: 24430\n",
      "2.88% valid rating\n",
      "----------------------------------------------------------\n",
      "rating matrix size: 722455\n",
      "non-null rating: 22872\n",
      "3.17% valid rating\n",
      "----------------------------------------------------------\n",
      "rating matrix size: 595620\n",
      "non-null rating: 21176\n",
      "3.56% valid rating\n",
      "----------------------------------------------------------\n",
      "rating matrix size: 498491\n",
      "non-null rating: 19679\n",
      "3.95% valid rating\n"
     ]
    }
   ],
   "source": [
    "print(\"rating matrix size: \" +  str(rm95.size))\n",
    "print(\"non-null rating: \" +  str(count_not_null(rm95)))\n",
    "print(str(round(count_not_null(rm95) * 100 /rm95.size, 2)) + \"% valid rating\")\n",
    "print('----------------------------------------------------------')\n",
    "print(\"rating matrix size: \" +  str(rm105.size))\n",
    "print(\"non-null rating: \" +  str(count_not_null(rm105)))\n",
    "print(str(round(count_not_null(rm105) * 100 /rm105.size, 2)) + \"% valid rating\")\n",
    "print('----------------------------------------------------------')\n",
    "print(\"rating matrix size: \" +  str(rm115.size))\n",
    "print(\"non-null rating: \" +  str(count_not_null(rm115)))\n",
    "print(str(round(count_not_null(rm115) * 100 /rm115.size, 2)) + \"% valid rating\")\n",
    "print('----------------------------------------------------------')\n",
    "print(\"rating matrix size: \" +  str(rm125.size))\n",
    "print(\"non-null rating: \" +  str(count_not_null(rm125)))\n",
    "print(str(round(count_not_null(rm125) * 100 /rm125.size, 2)) + \"% valid rating\")"
   ]
  },
  {
   "cell_type": "code",
   "execution_count": 218,
   "metadata": {},
   "outputs": [],
   "source": [
    "def batch_run(rm, um):\n",
    "    data1 = data_set_partition(rm)\n",
    "    result1  = SVD_data_set_size(data1[0], data1[1], rm, um)\n",
    "    data2 = data_set_partition(rm)\n",
    "    result2  = SVD_data_set_size(data2[0], data2[1], rm, um)\n",
    "    data3 = data_set_partition(rm)\n",
    "    result3  = SVD_data_set_size(data3[0], data3[1], rm, um)\n",
    "    data4 = data_set_partition(rm)\n",
    "    result4  = SVD_data_set_size(data4[0], data4[1], rm, um)\n",
    "    data5 = data_set_partition(rm)\n",
    "    result5  = SVD_data_set_size(data5[0], data5[1], rm, um)\n",
    "    avg = (result1 + result2 + result3 + result4 + result5)/5\n",
    "    return avg"
   ]
  },
  {
   "cell_type": "code",
   "execution_count": 219,
   "metadata": {},
   "outputs": [
    {
     "name": "stdout",
     "output_type": "stream",
     "text": [
      "0.8747963095301636\n",
      "0.8690348155097669\n",
      "0.8719536633410668\n",
      "0.8764020204541613\n",
      "0.8761249474693688\n",
      "0.8804017664864292\n",
      "0.8991626867437207\n",
      "0.8894410738333025\n",
      "0.8632399680114888\n",
      "0.8797068772479869\n",
      "0.8584538282585363\n",
      "0.8641884609265342\n",
      "0.8780295150474747\n",
      "0.8673425537406237\n",
      "0.8892000202879727\n",
      "0.8611425549132181\n",
      "0.8698724607070463\n",
      "0.8487520674854\n",
      "0.8629666795653732\n",
      "0.8865913287202742\n"
     ]
    }
   ],
   "source": [
    "result95 = batch_run(rm95, um95)\n",
    "result105 = batch_run(rm105, um105)\n",
    "result115 = batch_run(rm115, um115)\n",
    "result125 = batch_run(rm125, um125)"
   ]
  },
  {
   "cell_type": "code",
   "execution_count": 244,
   "metadata": {},
   "outputs": [
    {
     "data": {
      "text/plain": [
       "[0.8709590930164416,\n",
       " 0.8658650182782625,\n",
       " 0.8714428756522283,\n",
       " 0.8823904744645856,\n",
       " 0.8736623512609055]"
      ]
     },
     "execution_count": 244,
     "metadata": {},
     "output_type": "execute_result"
    }
   ],
   "source": [
    "test_result"
   ]
  },
  {
   "cell_type": "code",
   "execution_count": 311,
   "metadata": {},
   "outputs": [
    {
     "name": "stdout",
     "output_type": "stream",
     "text": [
      "0.8927587170794206\n",
      "0.8758602074886365\n",
      "0.8734680070680882\n",
      "0.875646998004387\n"
     ]
    }
   ],
   "source": [
    "data = data_set_partition(rm95)\n",
    "start95 = time.time()\n",
    "SVD_data_set_size(data[0], data[1], rm95, um95)\n",
    "end95 = time.time()\n",
    "RT95 = end95 - start95\n",
    "\n",
    "data = data_set_partition(rm105)\n",
    "start105 = time.time()\n",
    "SVD_data_set_size(data[0], data[1], rm105, um105)\n",
    "end105 = time.time()\n",
    "RT105 = end105 - start105\n",
    "\n",
    "data = data_set_partition(rm115)\n",
    "start115 = time.time()\n",
    "SVD_data_set_size(data[0], data[1], rm115, um115)\n",
    "end115 = time.time()\n",
    "RT115 = end115 - start115\n",
    "\n",
    "data = data_set_partition(rm125)\n",
    "start125 = time.time()\n",
    "SVD_data_set_size(data[0], data[1], rm125, um125)\n",
    "end125 = time.time()\n",
    "RT125 = end125 - start125"
   ]
  },
  {
   "cell_type": "code",
   "execution_count": 315,
   "metadata": {},
   "outputs": [
    {
     "data": {
      "image/png": "[encoded data removed]",
      "text/plain": [
       "<matplotlib.figure.Figure at 0x1137f8908>"
      ]
     },
     "metadata": {},
     "output_type": "display_data"
    }
   ],
   "source": [
    "RT = [153.608, RT125, RT115, RT105, RT95]\n",
    "size = [rm.size, rm125.size, rm115.size, rm105.size, rm95.size]\n",
    "plt.plot(size, RT)\n",
    "plt.ylabel('Run-Time')\n",
    "plt.xlabel('Dataset Size')\n",
    "plt.title('Dataset Size vs. Run-Time')\n",
    "plt.show()"
   ]
  },
  {
   "cell_type": "code",
   "execution_count": 228,
   "metadata": {},
   "outputs": [
    {
     "data": {
      "image/png": "[encoded data removed]",
      "text/plain": [
       "<matplotlib.figure.Figure at 0x113078b70>"
      ]
     },
     "metadata": {},
     "output_type": "display_data"
    }
   ],
   "source": [
    "test_result = [rmse, result125, result115, result105, result95]\n",
    "size = [rm.size, rm125.size, rm115.size, rm105.size, rm95.size]\n",
    "plt.plot(size, test_result)\n",
    "plt.ylabel('RMSE')\n",
    "plt.xlabel('Dataset Size')\n",
    "plt.title('Dataset Size vs. RMSE')\n",
    "plt.show()"
   ]
  },
  {
   "cell_type": "code",
   "execution_count": 236,
   "metadata": {},
   "outputs": [
    {
     "data": {
      "image/png": "[encoded data removed]",
      "text/plain": [
       "<matplotlib.figure.Figure at 0x10c5deeb8>"
      ]
     },
     "metadata": {},
     "output_type": "display_data"
    }
   ],
   "source": [
    "test_result = [rmse, result125, result115, result105, result95]\n",
    "valid_rating = [4.56, 3.95, 3.56, 3.17, 2.88]\n",
    "import matplotlib.pyplot as plt\n",
    "plt.plot(valid_rating, test_result)\n",
    "plt.ylabel('RMSE')\n",
    "plt.xlabel('% valid rating')\n",
    "plt.title('% valid rating vs. RMSE')\n",
    "plt.show()"
   ]
  },
  {
   "cell_type": "markdown",
   "metadata": {},
   "source": []
  },
  {
   "cell_type": "markdown",
   "metadata": {},
   "source": [
    "## II. Stochastic Gradient Descent"
   ]
  },
  {
   "cell_type": "code",
   "execution_count": 242,
   "metadata": {
    "collapsed": true
   },
   "outputs": [],
   "source": [
    "def SGD(matrix, K, steps=400, gama=0.02, lamda=0.01):  \n",
    "    slowRate = 0.99  \n",
    "    preRmse = 1000000000.0  \n",
    "    nowRmse = 0.0  \n",
    "  \n",
    "    user_feature = np.matrix(np.random.rand(matrix.shape[0], K))  \n",
    "    item_feature = np.matrix(np.random.rand(matrix.shape[1], K))  \n",
    "  \n",
    "    for step in range(steps):  \n",
    "        rmse = 0.0    \n",
    "        n = 0    \n",
    "        for u in range(matrix.shape[0]):  \n",
    "            for i in range(matrix.shape[1]):  \n",
    "                if not np.isnan(matrix[u,i]):  \n",
    "                    Uui = float(np.dot(user_feature[u,:], item_feature[i,:].T))  \n",
    "                    eui = matrix[u,i] - Uui  \n",
    "                    rmse += pow(eui, 2)  \n",
    "                    n += 1   \n",
    "                    for k in range(K):  \n",
    "                        user_feature[u,k] += gama*(eui*item_feature[i,k] - lamda*user_feature[u,k])  \n",
    "                        item_feature[i,k] += gama*(eui*user_feature[u,k] - lamda*item_feature[i,k])   \n",
    "  \n",
    "        nowRmse = pow((rmse * 1.0 / n) , 0.5)\n",
    "#        print ('step: %d      Rmse: %s' % ((step+1), nowRmse)  )\n",
    "        if (nowRmse < preRmse):    \n",
    "            preRmse = nowRmse  \n",
    "        else:  \n",
    "            break \n",
    "        gama *= slowRate  \n",
    "        step += 1  \n",
    "  \n",
    "    return user_feature, item_feature  "
   ]
  },
  {
   "cell_type": "code",
   "execution_count": 264,
   "metadata": {
    "collapsed": true
   },
   "outputs": [],
   "source": [
    "rm = pd.DataFrame.from_csv(\"rating_matrix.csv\")\n",
    "um = pd.DataFrame.from_csv(\"user_avg.csv\")\n",
    "\n",
    "test=[]\n",
    "train=[]\n",
    "tune = []\n",
    "random.seed(10)\n",
    "for j in rm:\n",
    "    for i in rm.index:\n",
    "        if not pd.isnull(rm[j][i]):\n",
    "            r=random.random()\n",
    "            if r <=0.6:\n",
    "                train.append([j,i,rm[j][i]])\n",
    "            elif r > 0.8:\n",
    "                test.append([j,i,rm[j][i]])\n",
    "            else:\n",
    "                tune.append([j,i,rm[j][i]])"
   ]
  },
  {
   "cell_type": "code",
   "execution_count": 265,
   "metadata": {},
   "outputs": [
    {
     "name": "stdout",
     "output_type": "stream",
     "text": [
      "[5, 1.3153089512179927]\n",
      "[8, 1.2392235791252173]\n",
      "[10, 1.20105869967384]\n",
      "[12, 1.1830996494620896]\n",
      "[15, 1.1672580180519743]\n",
      "[20, 1.153142162417225]\n",
      "[25, 1.1715074066048363]\n",
      "[30, 1.2008330681590655]\n"
     ]
    }
   ],
   "source": [
    "rating = rm.copy()\n",
    "for i in tune:\n",
    "    rating[i[0]][i[1]] = None\n",
    "\n",
    "for i in test:\n",
    "    rating[i[0]][i[1]] = None\n",
    "                \n",
    "R = rating.as_matrix()\n",
    "K_Value = [5,8,10,12,15,20,25,30]\n",
    "Result = []\n",
    "for k in K_Value:\n",
    "    U, V = SGD(R, k, steps= 400, gama=0.02, lamda= 0.3) \n",
    "    all_user_predicted_ratings = np.dot(U, V.T) \n",
    "    preds_df = pd.DataFrame(all_user_predicted_ratings, columns = rating.columns, index = rating.index)\n",
    "                                      \n",
    "    SUM=0\n",
    "    COUNT=0\n",
    "    for i in tune:\n",
    "        x = i[1]\n",
    "        y = i[0]\n",
    "        value = i[2]\n",
    "        SUM +=(value - preds_df[y][x])**2\n",
    "        COUNT+=1\n",
    "\n",
    "    rmse = math.sqrt(SUM/COUNT)\n",
    "    print([k,rmse])\n",
    "    Result.append([k,rmse])"
   ]
  },
  {
   "cell_type": "code",
   "execution_count": 266,
   "metadata": {},
   "outputs": [
    {
     "name": "stdout",
     "output_type": "stream",
     "text": [
      "[20, 1.2484142412857955]\n"
     ]
    }
   ],
   "source": [
    "rating = rm.copy()\n",
    "for i in tune:\n",
    "    rating[i[0]][i[1]] = None\n",
    "\n",
    "for i in test:\n",
    "    rating[i[0]][i[1]] = None\n",
    "                \n",
    "R = rating.as_matrix()\n",
    "K_Value = [20]\n",
    "Result2 = []\n",
    "for k in K_Value:\n",
    "    U, V = SGD(R, k, steps= 400, gama=0.02, lamda= 0.005) \n",
    "    all_user_predicted_ratings = np.dot(U, V.T) \n",
    "    preds_df = pd.DataFrame(all_user_predicted_ratings, columns = rating.columns, index = rating.index)\n",
    "                                      \n",
    "    SUM=0\n",
    "    COUNT=0\n",
    "    for i in tune:\n",
    "        x = i[1]\n",
    "        y = i[0]\n",
    "        value = i[2]\n",
    "        SUM +=(value - preds_df[y][x])**2\n",
    "        COUNT+=1\n",
    "\n",
    "    rmse = math.sqrt(SUM/COUNT)\n",
    "    print([k,rmse])\n",
    "    Result2.append([k,rmse])"
   ]
  },
  {
   "cell_type": "code",
   "execution_count": 269,
   "metadata": {},
   "outputs": [
    {
     "data": {
      "text/plain": [
       "[[5, 1.3153089512179927],\n",
       " [8, 1.2392235791252173],\n",
       " [10, 1.20105869967384],\n",
       " [12, 1.1830996494620896],\n",
       " [15, 1.1672580180519743],\n",
       " [20, 1.153142162417225],\n",
       " [25, 1.1715074066048363],\n",
       " [30, 1.2008330681590655]]"
      ]
     },
     "execution_count": 269,
     "metadata": {},
     "output_type": "execute_result"
    }
   ],
   "source": [
    "Result"
   ]
  },
  {
   "cell_type": "code",
   "execution_count": 270,
   "metadata": {},
   "outputs": [
    {
     "data": {
      "image/png": "[encoded data removed]",
      "text/plain": [
       "<matplotlib.figure.Figure at 0x110b70ef0>"
      ]
     },
     "metadata": {},
     "output_type": "display_data"
    }
   ],
   "source": [
    "test_result = [Result[0][1],Result[1][1], Result[2][1],Result[3][1],Result[4][1], Result[5][1],Result[6][1],Result[7][1]]\n",
    "feature = [Result[0][0],Result[1][0], Result[2][0],Result[3][0],Result[4][0], Result[5][0],Result[6][0],Result[7][0]]\n",
    "plt.plot(feature, test_result)\n",
    "plt.ylabel('RMSE')\n",
    "plt.xlabel('number of latent feature')\n",
    "plt.show()"
   ]
  },
  {
   "cell_type": "markdown",
   "metadata": {},
   "source": [
    "### Test Set SGD"
   ]
  },
  {
   "cell_type": "code",
   "execution_count": 271,
   "metadata": {},
   "outputs": [
    {
     "name": "stdout",
     "output_type": "stream",
     "text": [
      "[20, 1.139885524681472]\n",
      "time elapsed: 1355.336797952652\n"
     ]
    }
   ],
   "source": [
    "rating = rm.copy()\n",
    "start_time = time.time()\n",
    "for i in test:\n",
    "    rating[i[0]][i[1]] = None\n",
    "                \n",
    "R = rating.as_matrix()\n",
    "K_Value = [20]\n",
    "Result_test = []\n",
    "for k in K_Value:\n",
    "    U, V = SGD(R, k, steps= 400, gama=0.02, lamda= 0.3) \n",
    "    all_user_predicted_ratings = np.dot(U, V.T) \n",
    "    preds_df = pd.DataFrame(all_user_predicted_ratings, columns = rating.columns, index = rating.index)\n",
    "                                      \n",
    "    SUM=0\n",
    "    COUNT=0\n",
    "    for i in test:\n",
    "        x = i[1]\n",
    "        y = i[0]\n",
    "        value = i[2]\n",
    "        SUM +=(value - preds_df[y][x])**2\n",
    "        COUNT+=1\n",
    "\n",
    "    rmse = math.sqrt(SUM/COUNT)\n",
    "    print([k,rmse])\n",
    "    Result_test.append([k,rmse])\n",
    "end_time = time.time()\n",
    "print(\"time elapsed: \" + str(end_time - start_time))"
   ]
  },
  {
   "cell_type": "markdown",
   "metadata": {},
   "source": [
    "### Adding user/item bias terms to SGD"
   ]
  },
  {
   "cell_type": "code",
   "execution_count": 302,
   "metadata": {
    "collapsed": true
   },
   "outputs": [],
   "source": [
    "def SGD_bias(matrix, K, steps=400, gama=0.02, lamda=0.01):  \n",
    "    slowRate = 0.99  \n",
    "    preRmse = 1000000000.0  \n",
    "    nowRmse = 0.0  \n",
    "  \n",
    "    user_feature = np.matrix(np.random.rand(matrix.shape[0], K+2))  \n",
    "    for i in range(user_feature.shape[0]):\n",
    "        user_feature[i, K+1] = 1\n",
    "    \n",
    "    item_feature = np.matrix(np.random.rand(matrix.shape[1], K+2))  \n",
    "    for i in range(item_feature.shape[0]):\n",
    "        item_feature[i, K] = 1\n",
    "  \n",
    "    for step in range(steps):  \n",
    "        rmse = 0.0    \n",
    "        n = 0    \n",
    "        for u in range(matrix.shape[0]):  \n",
    "            for i in range(matrix.shape[1]):  \n",
    "                if not np.isnan(matrix[u,i]):  \n",
    "                    Uui = float(np.dot(user_feature[u,:], item_feature[i,:].T))  \n",
    "                    eui = matrix[u,i] - Uui  \n",
    "                    rmse += pow(eui, 2)  \n",
    "                    n += 1   \n",
    "                    for k in range(K+2):  \n",
    "                        user_feature[u,k] += gama*(eui*item_feature[i,k] - lamda*user_feature[u,k])  \n",
    "                        item_feature[i,k] += gama*(eui*user_feature[u,k] - lamda*item_feature[i,k])  \n",
    "                    \n",
    "                    for i in range(user_feature.shape[0]):\n",
    "                        user_feature[i, K+1] = 1\n",
    "                                          \n",
    "                    for i in range(item_feature.shape[0]):\n",
    "                        item_feature[i, K] = 1\n",
    "  \n",
    "        nowRmse = pow((rmse * 1.0 / n) , 0.5)\n",
    "#        print ('step: %d      Rmse: %s' % ((step+1), nowRmse)  )\n",
    "        if (nowRmse < preRmse):    \n",
    "            preRmse = nowRmse  \n",
    "        else:  \n",
    "            break \n",
    "        gama *= slowRate  \n",
    "        step += 1  \n",
    "  \n",
    "    return user_feature, item_feature  "
   ]
  },
  {
   "cell_type": "code",
   "execution_count": 316,
   "metadata": {
    "scrolled": true
   },
   "outputs": [
    {
     "name": "stdout",
     "output_type": "stream",
     "text": [
      "[14, 1.1392910086276204]\n",
      "[16, 1.1372724811286536]\n"
     ]
    }
   ],
   "source": [
    "rating = rm.copy()\n",
    "for i in tune:\n",
    "    rating[i[0]][i[1]] = None\n",
    "\n",
    "for i in test:\n",
    "    rating[i[0]][i[1]] = None\n",
    "                \n",
    "R = rating.as_matrix()\n",
    "K_Value = [14,16]\n",
    "Result3 = []\n",
    "#start_sgd_bias = time.time()\n",
    "for k in K_Value:\n",
    "    U, V = SGD_bias(R, k, steps= 400, gama=0.02, lamda= 0.3) \n",
    "    all_user_predicted_ratings = np.dot(U, V.T) \n",
    "    preds_df = pd.DataFrame(all_user_predicted_ratings, columns = rating.columns, index = rating.index)\n",
    "                                      \n",
    "    SUM=0\n",
    "    COUNT=0\n",
    "    for i in tune:\n",
    "        x = i[1]\n",
    "        y = i[0]\n",
    "        value = i[2]\n",
    "        SUM +=(value - preds_df[y][x])**2\n",
    "        COUNT+=1\n",
    "\n",
    "    rmse = math.sqrt(SUM/COUNT)\n",
    "    print([k,rmse])\n",
    "    Result3.append([k,rmse])\n",
    "#end_sgd_bias = time.time()"
   ]
  },
  {
   "cell_type": "code",
   "execution_count": 317,
   "metadata": {},
   "outputs": [],
   "source": [
    "sgd_bias_result = [[5, 1.1961627771022152],\n",
    "[8, 1.1659720846064754],\n",
    "[14, 1.1392910086276204],\n",
    "[15, 1.1376715668986543],\n",
    "[16, 1.1372724811286536],\n",
    "[20, 1.1403503959607277]]"
   ]
  },
  {
   "cell_type": "markdown",
   "metadata": {},
   "source": [
    "run-time"
   ]
  },
  {
   "cell_type": "code",
   "execution_count": 309,
   "metadata": {},
   "outputs": [
    {
     "data": {
      "text/plain": [
       "4610.575373530388"
      ]
     },
     "execution_count": 309,
     "metadata": {},
     "output_type": "execute_result"
    }
   ],
   "source": [
    "one_run = (end_sgd_bias - start_sgd_bias)/2\n",
    "one_run"
   ]
  },
  {
   "cell_type": "code",
   "execution_count": 325,
   "metadata": {},
   "outputs": [
    {
     "data": {
      "image/png": "[encoded data removed]",
      "text/plain": [
       "<matplotlib.figure.Figure at 0x115bbaf28>"
      ]
     },
     "metadata": {},
     "output_type": "display_data"
    }
   ],
   "source": [
    "test_result_sgd_bias = [sgd_bias_result[0][1],sgd_bias_result[1][1], sgd_bias_result[2][1],sgd_bias_result[3][1],sgd_bias_result[4][1], sgd_bias_result[5][1]]\n",
    "feature_sgd_bias = [sgd_bias_result[0][0], sgd_bias_result[1][0], sgd_bias_result[2][0],sgd_bias_result[3][0], sgd_bias_result[4][0], sgd_bias_result[5][0]]\n",
    "sgd_bias_line = plt.plot(feature_sgd_bias , test_result_sgd_bias, label = 'SGD with bias')\n",
    "sgd_line = plt.plot(feature, test_result, label = 'SGD')\n",
    "plt.legend(bbox_to_anchor=(1.05, 1), loc=2, borderaxespad=0.)\n",
    "plt.ylabel('RMSE')\n",
    "plt.xlabel('number of latent feature')\n",
    "plt.show()"
   ]
  },
  {
   "cell_type": "code",
   "execution_count": null,
   "metadata": {
    "collapsed": true
   },
   "outputs": [],
   "source": []
  }
 ],
 "metadata": {
  "kernelspec": {
   "display_name": "Python 3",
   "language": "python",
   "name": "python3"
  },
  "language_info": {
   "codemirror_mode": {
    "name": "ipython",
    "version": 3
   },
   "file_extension": ".py",
   "mimetype": "text/x-python",
   "name": "python",
   "nbconvert_exporter": "python",
   "pygments_lexer": "ipython3",
   "version": "3.5.3"
  }
 },
 "nbformat": 4,
 "nbformat_minor": 2
}
